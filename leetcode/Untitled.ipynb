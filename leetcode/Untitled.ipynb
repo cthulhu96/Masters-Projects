{
 "cells": [
  {
   "cell_type": "code",
   "execution_count": 46,
   "metadata": {},
   "outputs": [],
   "source": [
    "s = \"RLRRRLLRLL\"\n",
    "elements = iter(s)\n",
    "count = 0\n",
    "now = next(elements,'0')"
   ]
  },
  {
   "cell_type": "code",
   "execution_count": null,
   "metadata": {},
   "outputs": [
    {
     "name": "stdout",
     "output_type": "stream",
     "text": [
      "1\n",
      "3\n"
     ]
    }
   ],
   "source": [
    "while now != 0:\n",
    "    cur = 1\n",
    "    if now == 'R':\n",
    "        now = next(elements,0)\n",
    "        while now != 'L':\n",
    "            cur +=1\n",
    "            \n",
    "            now = next(elements,0)\n",
    "        print(cur)\n",
    "    else:\n",
    "        now = next(elements,0)\n",
    "        while now != 'R':\n",
    "            cur +=1\n",
    "            \n",
    "            now = next(elements,0)\n",
    "        print(cur)\n",
    "    for i in range(0,cur-1):\n",
    "        now = next(elements,0)\n",
    "    count +=1\n",
    "    now = next(elements,0)\n",
    "print(count)"
   ]
  },
  {
   "cell_type": "code",
   "execution_count": null,
   "metadata": {},
   "outputs": [],
   "source": []
  },
  {
   "cell_type": "code",
   "execution_count": null,
   "metadata": {},
   "outputs": [],
   "source": []
  },
  {
   "cell_type": "code",
   "execution_count": null,
   "metadata": {},
   "outputs": [],
   "source": []
  },
  {
   "cell_type": "code",
   "execution_count": null,
   "metadata": {},
   "outputs": [],
   "source": []
  },
  {
   "cell_type": "code",
   "execution_count": null,
   "metadata": {},
   "outputs": [],
   "source": []
  },
  {
   "cell_type": "code",
   "execution_count": null,
   "metadata": {},
   "outputs": [],
   "source": []
  },
  {
   "cell_type": "code",
   "execution_count": null,
   "metadata": {},
   "outputs": [],
   "source": [
    "\n",
    "print(now)\n",
    "\n",
    "    else:\n",
    "        now = next(elements)\n",
    "        while now != 'L' or now != 'Y':\n",
    "            cur_str_count+=1\n",
    "            now = next(elements,'Y')\n",
    "\n",
    "\n",
    "    for i in range(0,cur_str_count):\n",
    "        now = next(elements)\n",
    "    count +=1\n",
    "    now = next(elements,'Y')"
   ]
  }
 ],
 "metadata": {
  "kernelspec": {
   "display_name": "Python 3",
   "language": "python",
   "name": "python3"
  },
  "language_info": {
   "codemirror_mode": {
    "name": "ipython",
    "version": 3
   },
   "file_extension": ".py",
   "mimetype": "text/x-python",
   "name": "python",
   "nbconvert_exporter": "python",
   "pygments_lexer": "ipython3",
   "version": "3.7.3"
  }
 },
 "nbformat": 4,
 "nbformat_minor": 2
}
